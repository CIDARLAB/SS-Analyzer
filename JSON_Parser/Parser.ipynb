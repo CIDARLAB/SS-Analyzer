{
 "cells": [
  {
   "cell_type": "markdown",
   "metadata": {},
   "source": [
    "# Component Parser"
   ]
  },
  {
   "cell_type": "code",
   "execution_count": 5,
   "metadata": {
    "scrolled": false
   },
   "outputs": [
    {
     "name": "stdout",
     "output_type": "stream",
     "text": [
      "{'Mux': {'flowChannelWidth': 10, 'controlChannelWidth': 5, 'orientation': 'V', 'spacing': 400, 'leafs': 2, 'width': 144, 'length': 456, 'position': [0, 0], 'direction': 'IN'}, 'Port': {'width': 20, 'length': 20, 'portRadius': 10, 'position': [0, 0]}, 'TDroplet': {'orientation': 'H', 'oilChannelWidth': 10, 'width': 365, 'length': 359, 'portRadius': 10, 'waterChannelWidth': 2, 'position': [0, 0]}, 'Mixer': {'orientation': 'H', 'bendSpacing': 5, 'numberOfBends': 5, 'channelWidth': 10, 'position': [0, 0], 'bendLength': 100}, 'CellTrapL': {'flowChannelWidth': 10, 'chamberLength': 10, 'orientation': 'H', 'chamberWidth': 10, 'numberOfChambers': 10, 'position': [0, 0], 'chamberSpacing': 5}}\n"
     ]
    }
   ],
   "source": [
    "#Parser \n",
    "import json\n",
    "components = {};\n",
    "parsed_JSON = json.load(open('tdroplet.json'));\n",
    "num_comps = len(parsed_JSON[\"components\"])\n",
    "#Iterate through components and store parameters \n",
    "for i in range(0,num_comps):\n",
    "    key = parsed_JSON[\"components\"][i][\"entity\"];\n",
    "    components[key] = parsed_JSON[\"components\"][i][\"params\"]; \n",
    "\n",
    "print(components);\n",
    "#Save indices values of specific entity and then use specific model based on entity\n",
    "#Can also read values of connected components using this "
   ]
  }
 ],
 "metadata": {
  "kernelspec": {
   "display_name": "Python 3",
   "language": "python",
   "name": "python3"
  },
  "language_info": {
   "codemirror_mode": {
    "name": "ipython",
    "version": 3
   },
   "file_extension": ".py",
   "mimetype": "text/x-python",
   "name": "python",
   "nbconvert_exporter": "python",
   "pygments_lexer": "ipython3",
   "version": "3.6.3"
  }
 },
 "nbformat": 4,
 "nbformat_minor": 2
}
