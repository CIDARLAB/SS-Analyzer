{
 "cells": [
  {
   "cell_type": "markdown",
   "metadata": {},
   "source": [
    "# Component Parser"
   ]
  },
  {
   "cell_type": "code",
   "execution_count": 2,
   "metadata": {
    "scrolled": false
   },
   "outputs": [
    {
     "name": "stdout",
     "output_type": "stream",
     "text": [
      "[('cp1', 'm1'), ('m1', 'cp2'), ('m1', 'x1'), ('m1', 'x2'), ('m1', 'ct1'), ('t1', 'x1'), ('t2', 'x2'), ('ct1', 'p1')]\n",
      "{'m1': {'flowChannelWidth': 10, 'controlChannelWidth': 5, 'orientation': 'V', 'spacing': 400, 'leafs': 2, 'width': 144, 'length': 456, 'position': [0, 0], 'direction': 'IN', 'primitive': 'Mux'}, 'cp1': {'width': 20, 'length': 20, 'portRadius': 10, 'position': [0, 0], 'primitive': 'Port'}, 'cp2': {'width': 20, 'length': 20, 'portRadius': 10, 'position': [0, 0], 'primitive': 'Port'}, 't1': {'orientation': 'H', 'oilChannelWidth': 10, 'width': 365, 'length': 359, 'portRadius': 10, 'waterChannelWidth': 2, 'position': [0, 0], 'primitive': 'TDroplet'}, 'x1': {'orientation': 'H', 'bendSpacing': 5, 'numberOfBends': 5, 'channelWidth': 10, 'position': [0, 0], 'bendLength': 100, 'primitive': 'Mixer'}, 't2': {'orientation': 'H', 'oilChannelWidth': 10, 'width': 365, 'length': 359, 'portRadius': 10, 'waterChannelWidth': 2, 'position': [0, 0], 'primitive': 'TDroplet'}, 'x2': {'orientation': 'H', 'bendSpacing': 5, 'numberOfBends': 5, 'channelWidth': 10, 'position': [0, 0], 'bendLength': 100, 'primitive': 'Mixer'}, 'ct1': {'flowChannelWidth': 10, 'chamberLength': 10, 'orientation': 'H', 'chamberWidth': 10, 'numberOfChambers': 10, 'position': [0, 0], 'chamberSpacing': 5, 'primitive': 'CellTrapL'}, 'p1': {'width': 20, 'length': 20, 'portRadius': 10, 'position': [0, 0], 'primitive': 'Port'}}\n"
     ]
    }
   ],
   "source": [
    "#Does not account for specific chip layers\n",
    "import networkx as nx\n",
    "import json\n",
    "import numpy as np\n",
    "\n",
    "parsed_JSON = json.load(open('tdroplet.json'));\n",
    "G = nx.MultiGraph();\n",
    "components = {};\n",
    "num_comps = len(parsed_JSON[\"components\"])\n",
    "num_connects = len(parsed_JSON[\"connections\"]);\n",
    "\n",
    "#Iterate through components and store parameters\n",
    "for i in range(0,num_comps):\n",
    "    key = parsed_JSON[\"components\"][i][\"id\"];\n",
    "    components[key] = parsed_JSON[\"components\"][i][\"params\"];\n",
    "    components[key][\"primitive\"] = parsed_JSON[\"components\"][i][\"entity\"];\n",
    "\n",
    "#Iterate through connections and store primitive connections in graph G\n",
    "for i in range(0,num_connects):\n",
    "    source = parsed_JSON[\"connections\"][i][\"source\"][\"component\"];\n",
    "    sink = parsed_JSON[\"connections\"][i][\"sinks\"][0][\"component\"];\n",
    "    G.add_edge(source,sink);\n",
    "\n",
    "print(G.edges());\n",
    "print(components);"
   ]
  }
 ],
 "metadata": {
  "kernelspec": {
   "display_name": "Python 3",
   "language": "python",
   "name": "python3"
  },
  "language_info": {
   "codemirror_mode": {
    "name": "ipython",
    "version": 3
   },
   "file_extension": ".py",
   "mimetype": "text/x-python",
   "name": "python",
   "nbconvert_exporter": "python",
   "pygments_lexer": "ipython3",
   "version": "3.6.4"
  }
 },
 "nbformat": 4,
 "nbformat_minor": 2
}
