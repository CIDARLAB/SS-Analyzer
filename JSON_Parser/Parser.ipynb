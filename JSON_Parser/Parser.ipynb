{
 "cells": [
  {
   "cell_type": "markdown",
   "metadata": {},
   "source": [
    "# Component Parser"
   ]
  },
  {
   "cell_type": "code",
   "execution_count": 6,
   "metadata": {
    "scrolled": false
   },
   "outputs": [
    {
     "name": "stdout",
     "output_type": "stream",
     "text": [
      "[('cp1', 'm1'), ('m1', 'cp2'), ('m1', 'x1'), ('m1', 'x2'), ('m1', 'ct1'), ('t1', 'x1'), ('t2', 'x2'), ('ct1', 'p1')]\n"
     ]
    }
   ],
   "source": [
    "import networkx as nx\n",
    "import json\n",
    "\n",
    "parsed_JSON = json.load(open('tdroplet.json'));\n",
    "G = nx.MultiGraph();\n",
    "components = {};\n",
    "connections = {};\n",
    "num_comps = len(parsed_JSON[\"components\"])\n",
    "num_connects = len(parsed_JSON[\"connections\"]);\n",
    "\n",
    "#Iterate through components and store parameters\n",
    "for i in range(0,num_comps):\n",
    "    key = parsed_JSON[\"components\"][i][\"entity\"];\n",
    "    components[key] = parsed_JSON[\"components\"][i][\"params\"];\n",
    "    components[key][\"id\"] = parsed_JSON[\"components\"][i][\"id\"];\n",
    "    G.add_node(key);\n",
    "\n",
    "#Iterate through connections and store primitive connections\n",
    "for i in range(0,num_connects):\n",
    "    source = parsed_JSON[\"connections\"][i][\"source\"][\"component\"];\n",
    "    sink = parsed_JSON[\"connections\"][i][\"sinks\"][0][\"component\"];\n",
    "    G.add_edge(source,sink);\n",
    "\n",
    "print(G.edges());"
   ]
  }
 ],
 "metadata": {
  "kernelspec": {
   "display_name": "Python 3",
   "language": "python",
   "name": "python3"
  },
  "language_info": {
   "codemirror_mode": {
    "name": "ipython",
    "version": 3
   },
   "file_extension": ".py",
   "mimetype": "text/x-python",
   "name": "python",
   "nbconvert_exporter": "python",
   "pygments_lexer": "ipython3",
   "version": "3.6.3"
  }
 },
 "nbformat": 4,
 "nbformat_minor": 2
}
