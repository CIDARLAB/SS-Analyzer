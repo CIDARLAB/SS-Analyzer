{
 "cells": [
  {
   "cell_type": "markdown",
   "metadata": {},
   "source": [
    "# This is a script to measure channel resistance"
   ]
  },
  {
   "cell_type": "code",
   "execution_count": 4,
   "metadata": {},
   "outputs": [
    {
     "name": "stdout",
     "output_type": "stream",
     "text": [
      "Hello this script is intended to measure the internal channel PSI\n",
      "Insert channel width and depth (um): 20 20\n",
      "Insert channel length (mm): 20\n",
      "alpha =  28.263964755361762\n",
      "resistance =  3144366079033997.5\n"
     ]
    },
    {
     "data": {
      "text/plain": [
       "'\\nwhile test == True:\\n    if 2*depth > width:\\n        res = (32*W_viscosity*length)/(width*pow(depth,3))\\n        flow = input(\"Enter flow rate (mL/h) or enter 0 to exit: \")\\n        flow = float(flow)\\n        \\n        if flow != 0.0:\\n            newFlow = flow * ((1*pow(10,-6))/3600)\\n            Pa = newFlow * res\\n            PSI = Pa * 0.000145038\\n            print(\"Channel can withstand pressure of \", PSI)\\n        else:\\n            print(\"Exiting!\")\\n            break\\n    elif 10*depth < width:\\n        res = (12*W_viscosity*length)/(width*pow(depth,3))\\n        flow = input(\"Enter flow rate (mL/h) or enter 0 to exit: \")\\n        flow = float(flow)\\n        \\n        if flow != 0.0:\\n            newFlow = flow * ((1*pow(10,-6))/3600)\\n            Pa = newFlow * res\\n            PSI = Pa * 0.000145038\\n            print(\"Channel can withstand pressure of \", PSI)\\n        else:\\n            print(\"Exiting!\")\\n            break\\n'"
      ]
     },
     "execution_count": 4,
     "metadata": {},
     "output_type": "execute_result"
    }
   ],
   "source": [
    "from math import *\n",
    "\n",
    "#Initalize variables \n",
    "W_viscosity = 8.9*pow(10,-4)\n",
    "milli = pow(10,-3)\n",
    "micro = pow(10,-6)\n",
    "test = True\n",
    "\n",
    "print(\"Hello this script is intended to measure the resistance of a channel\")\n",
    "width,depth = input(\"Insert channel width and depth (um): \").split()\n",
    "length = input(\"Insert channel length (mm): \")\n",
    "\n",
    "#Reassign inputs as float \n",
    "width = float(width)\n",
    "depth = float(depth)\n",
    "length = float(length)\n",
    "width = width*micro\n",
    "depth = depth*micro\n",
    "length = length*milli\n",
    "\n",
    "\n",
    "alpha = 12*pow(1-((192*depth)/(pow(pi,5)*width))*tanh((pi*width)/(2*depth)),-1);\n",
    "resistance = (alpha*W_viscosity*length)/(width*pow(depth,3));\n",
    "\n",
    "print(\"resistance = \", resistance)\n",
    "\n"
   ]
  }
 ],
 "metadata": {
  "kernelspec": {
   "display_name": "Python 3",
   "language": "python",
   "name": "python3"
  }
 },
 "nbformat": 4,
 "nbformat_minor": 2
}
