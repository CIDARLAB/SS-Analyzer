{
 "cells": [
  {
   "cell_type": "markdown",
   "metadata": {},
   "source": [
    "# This is a script to measure internal channel PSI "
   ]
  },
  {
   "cell_type": "code",
   "execution_count": 2,
   "metadata": {},
   "outputs": [
    {
     "name": "stdout",
     "output_type": "stream",
     "text": [
      "Hello this script is intended to measure the internal channel PSI\n",
      "Insert channel width and depth (um): 20 20\n",
      "Insert channel length (mm): 20\n",
      "Enter flow rate (mL/h) or enter 0 to exit: 1\n",
      "Channel can withstand pressure of  143.42646666666673\n",
      "Enter flow rate (mL/h) or enter 0 to exit: 2\n",
      "Channel can withstand pressure of  286.85293333333345\n",
      "Enter flow rate (mL/h) or enter 0 to exit: 3\n",
      "Channel can withstand pressure of  430.2794000000002\n",
      "Enter flow rate (mL/h) or enter 0 to exit: 0\n",
      "Exiting!\n"
     ]
    }
   ],
   "source": [
    "from math import *\n",
    "\n",
    "#Initalize variables \n",
    "W_viscosity = 8.9*pow(10,-4)\n",
    "milli = pow(10,-3)\n",
    "micro = pow(10,-6)\n",
    "test = True\n",
    "\n",
    "print(\"Hello this script is intended to measure the internal channel PSI\")\n",
    "width,depth = input(\"Insert channel width and depth (um): \").split()\n",
    "length = input(\"Insert channel length (mm): \")\n",
    "\n",
    "#Reassign inputs as float \n",
    "width = float(width)\n",
    "depth = float(depth)\n",
    "length = float(length)\n",
    "width = width*micro\n",
    "depth = depth*micro\n",
    "length = length*milli\n",
    "\n",
    "while test == True:\n",
    "    if 2*depth > width:\n",
    "        res = (32*W_viscosity*length)/(width*pow(depth,3))\n",
    "        print(\"resistance = \",res)\n",
    "        flow = input(\"Enter flow rate (mL/h) or enter 0 to exit: \")\n",
    "        flow = float(flow)\n",
    "        \n",
    "        if flow != 0.0:\n",
    "            newFlow = flow * ((1*pow(10,-6))/3600)\n",
    "            Pa = newFlow * res\n",
    "            PSI = Pa * 0.000145038\n",
    "            print(\"Channel can withstand pressure of \", PSI)\n",
    "        else:\n",
    "            print(\"Exiting!\")\n",
    "            break\n",
    "    elif 10*depth < width:\n",
    "        res = (12*W_viscosity*length)/(width*pow(depth,3))\n",
    "        print(\"resistance = \",res)\n",
    "        flow = input(\"Enter flow rate (mL/h) or enter 0 to exit: \")\n",
    "        flow = float(flow)\n",
    "        \n",
    "        if flow != 0.0:\n",
    "            newFlow = flow * ((1*pow(10,-6))/3600)\n",
    "            Pa = newFlow * res\n",
    "            PSI = Pa * 0.000145038\n",
    "            print(\"Channel can withstand pressure of \", PSI)\n",
    "        else:\n",
    "            print(\"Exiting!\")\n",
    "            break"
   ]
  }
 ],
 "metadata": {
  "kernelspec": {
   "display_name": "Python 3",
   "language": "python",
   "name": "python3"
  },
  "language_info": {
   "codemirror_mode": {
    "name": "ipython",
    "version": 3
   },
   "file_extension": ".py",
   "mimetype": "text/x-python",
   "name": "python",
   "nbconvert_exporter": "python",
   "pygments_lexer": "ipython3",
   "version": "3.6.4"
  }
 },
 "nbformat": 4,
 "nbformat_minor": 2
}
